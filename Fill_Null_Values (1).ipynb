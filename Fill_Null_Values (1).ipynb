{
  "nbformat": 4,
  "nbformat_minor": 0,
  "metadata": {
    "colab": {
      "provenance": []
    },
    "kernelspec": {
      "name": "python3",
      "display_name": "Python 3"
    },
    "language_info": {
      "name": "python"
    }
  },
  "cells": [
    {
      "cell_type": "code",
      "execution_count": null,
      "metadata": {
        "id": "y23qq6b2s70Q"
      },
      "outputs": [],
      "source": [
        "\n",
        "# importing pandas module\n",
        "import pandas as pd\n",
        "\n",
        "# making data frame from csv file\n",
        "df = pd.read_csv(\"nba.csv\")\n",
        "\n",
        "# replacing na values in college with No college\n",
        "df[\"College\"].fillna(\"No College\", inplace = True)\n",
        "\n",
        "df"
      ]
    }
  ]
}