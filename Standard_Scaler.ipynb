{
  "nbformat": 4,
  "nbformat_minor": 0,
  "metadata": {
    "colab": {
      "provenance": []
    },
    "kernelspec": {
      "name": "python3",
      "display_name": "Python 3"
    },
    "language_info": {
      "name": "python"
    }
  },
  "cells": [
    {
      "cell_type": "code",
      "execution_count": 9,
      "metadata": {
        "colab": {
          "base_uri": "https://localhost:8080/"
        },
        "id": "Tr4jagDziCjX",
        "outputId": "d1e9ad82-975e-4e1f-f20b-d76baed7be47"
      },
      "outputs": [
        {
          "output_type": "stream",
          "name": "stdout",
          "text": [
            "[[11, 2], [3, 7], [0, 10], [11, 8]]\n"
          ]
        }
      ],
      "source": [
        "# import module\n",
        "from sklearn.preprocessing import StandardScaler\n",
        "\n",
        "# create data\n",
        "x = [[11, 2], [3, 7], [0, 10], [11, 8]]\n",
        "print(x)\n",
        "\n",
        "\n",
        "\n",
        "\n"
      ]
    },
    {
      "cell_type": "code",
      "source": [
        "# compute required values\n",
        "scaler = StandardScaler()\n",
        "model = scaler.fit(x)\n",
        "scaled_x = model.transform(data)\n",
        "\n",
        "# print scaled data\n",
        "print(scaled_x)"
      ],
      "metadata": {
        "colab": {
          "base_uri": "https://localhost:8080/"
        },
        "id": "AGS24tjsiah7",
        "outputId": "ad3b455c-6ed6-4612-af4f-73a53a122f92"
      },
      "execution_count": 10,
      "outputs": [
        {
          "output_type": "stream",
          "name": "stdout",
          "text": [
            "[[ 0.97596444 -1.61155897]\n",
            " [-0.66776515  0.08481889]\n",
            " [-1.28416374  1.10264561]\n",
            " [ 0.97596444  0.42409446]]\n"
          ]
        }
      ]
    }
  ]
}