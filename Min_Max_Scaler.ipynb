{
  "nbformat": 4,
  "nbformat_minor": 0,
  "metadata": {
    "colab": {
      "provenance": []
    },
    "kernelspec": {
      "name": "python3",
      "display_name": "Python 3"
    },
    "language_info": {
      "name": "python"
    }
  },
  "cells": [
    {
      "cell_type": "code",
      "execution_count": 4,
      "metadata": {
        "colab": {
          "base_uri": "https://localhost:8080/"
        },
        "id": "Tr4jagDziCjX",
        "outputId": "8fc51682-cdde-47fb-d314-f900be4d74f1"
      },
      "outputs": [
        {
          "output_type": "stream",
          "name": "stdout",
          "text": [
            "[[110, 2], [300, 7], [0, 10], [110, 8]]\n"
          ]
        }
      ],
      "source": [
        "# import module\n",
        "from sklearn.preprocessing import MinMaxScaler\n",
        "\n",
        "# create data\n",
        "x = [[110, 2], [300, 7], [0, 10], [110, 8]]\n",
        "print(x)\n",
        "\n"
      ]
    },
    {
      "cell_type": "code",
      "source": [
        "# scale features\n",
        "scaler = MinMaxScaler()\n",
        "model=scaler.fit(x)\n",
        "scaled_x=model.transform(x)\n",
        "\n",
        "# print scaled features\n",
        "print(scaled_x)"
      ],
      "metadata": {
        "colab": {
          "base_uri": "https://localhost:8080/"
        },
        "id": "AGS24tjsiah7",
        "outputId": "03c1d044-00dc-4def-acc9-f7639d8bd76b"
      },
      "execution_count": 5,
      "outputs": [
        {
          "output_type": "stream",
          "name": "stdout",
          "text": [
            "[[0.36666667 0.        ]\n",
            " [1.         0.625     ]\n",
            " [0.         1.        ]\n",
            " [0.36666667 0.75      ]]\n"
          ]
        }
      ]
    }
  ]
}